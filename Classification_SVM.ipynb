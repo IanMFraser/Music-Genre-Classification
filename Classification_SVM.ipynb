{
 "cells": [
  {
   "cell_type": "code",
   "execution_count": 1,
   "metadata": {},
   "outputs": [],
   "source": [
    "import numpy as np\n",
    "import pandas as pd\n",
    "%matplotlib inline\n",
    "import matplotlib.pyplot as plt\n",
    "from sklearn.model_selection import train_test_split\n",
    "from sklearn.preprocessing import StandardScaler\n",
    "from sklearn import svm\n",
    "from sklearn import metrics\n",
    "import seaborn as sn"
   ]
  },
  {
   "cell_type": "code",
   "execution_count": 2,
   "metadata": {},
   "outputs": [],
   "source": [
    "#read features from csv file\n",
    "df = pd.read_csv('features.csv')\n",
    "df.set_index('filename', inplace=True)"
   ]
  },
  {
   "cell_type": "code",
   "execution_count": 3,
   "metadata": {},
   "outputs": [],
   "source": [
    "#label encoding\n",
    "# genre_list = df['genre']\n",
    "# encoder = LabelEncoder()\n",
    "# y = encoder.fit_transform(genre_list)\n",
    "y = df['genre']\n",
    "\n",
    "#scaling the features\n",
    "# scaler = StandardScaler()\n",
    "# X = scaler.fit_transform(np.array(df.iloc[:, 2:], dtype=float))\n",
    "X = df.iloc[:, 1:]\n",
    "\n",
    "#training/testing data\n",
    "X_train, X_test, y_train, y_test = train_test_split(X, y, test_size=0.2)"
   ]
  },
  {
   "cell_type": "code",
   "execution_count": 5,
   "metadata": {},
   "outputs": [
    {
     "name": "stdout",
     "output_type": "stream",
     "text": [
      "Precision: 61.500%\n",
      "Recall: 61.500%\n",
      "Accuracy: 61.500%\n",
      "Predicted values:\n",
      " ['hiphop' 'country' 'reggae' 'pop' 'blues' 'reggae' 'country' 'metal'\n",
      " 'disco' 'rock' 'jazz' 'blues' 'blues' 'reggae' 'hiphop' 'classical'\n",
      " 'country' 'metal' 'rock' 'metal' 'metal' 'rock' 'hiphop' 'country'\n",
      " 'classical' 'jazz' 'country' 'pop' 'metal' 'metal' 'country' 'blues'\n",
      " 'reggae' 'reggae' 'blues' 'classical' 'disco' 'pop' 'jazz' 'country'\n",
      " 'hiphop' 'hiphop' 'jazz' 'disco' 'reggae' 'blues' 'blues' 'country'\n",
      " 'country' 'metal' 'hiphop' 'metal' 'disco' 'rock' 'blues' 'country'\n",
      " 'disco' 'classical' 'pop' 'hiphop' 'rock' 'hiphop' 'rock' 'blues' 'disco'\n",
      " 'metal' 'disco' 'pop' 'hiphop' 'metal' 'country' 'country' 'classical'\n",
      " 'rock' 'metal' 'classical' 'classical' 'classical' 'metal' 'rock' 'disco'\n",
      " 'rock' 'classical' 'country' 'classical' 'blues' 'classical' 'blues'\n",
      " 'jazz' 'classical' 'classical' 'jazz' 'country' 'reggae' 'metal' 'reggae'\n",
      " 'reggae' 'pop' 'blues' 'hiphop' 'disco' 'country' 'disco' 'rock' 'rock'\n",
      " 'classical' 'reggae' 'classical' 'metal' 'country' 'metal' 'metal' 'rock'\n",
      " 'hiphop' 'country' 'blues' 'pop' 'pop' 'pop' 'reggae' 'pop' 'jazz'\n",
      " 'reggae' 'hiphop' 'reggae' 'metal' 'jazz' 'reggae' 'classical' 'country'\n",
      " 'hiphop' 'metal' 'pop' 'metal' 'disco' 'metal' 'disco' 'jazz' 'disco'\n",
      " 'country' 'disco' 'metal' 'jazz' 'jazz' 'jazz' 'blues' 'hiphop' 'rock'\n",
      " 'jazz' 'disco' 'classical' 'pop' 'reggae' 'jazz' 'country' 'pop' 'metal'\n",
      " 'blues' 'blues' 'pop' 'disco' 'jazz' 'jazz' 'blues' 'blues' 'reggae'\n",
      " 'hiphop' 'jazz' 'disco' 'rock' 'country' 'hiphop' 'metal' 'hiphop'\n",
      " 'blues' 'reggae' 'jazz' 'disco' 'metal' 'disco' 'classical' 'country'\n",
      " 'pop' 'hiphop' 'blues' 'rock' 'reggae' 'disco' 'blues' 'hiphop' 'disco'\n",
      " 'country' 'metal' 'country' 'jazz' 'metal' 'blues' 'metal' 'blues'\n",
      " 'metal']\n"
     ]
    }
   ],
   "source": [
    "#SVM\n",
    "clf = svm.SVC(kernel='linear', C=10, gamma='auto')\n",
    "clf.fit(X_train, y_train)\n",
    "y_pred = clf.predict(X_test)\n",
    "    \n",
    "print('Precision: {0:.3f}%'.format(metrics.precision_score(y_test, y_pred, average='micro') * 100))\n",
    "print('Recall: {0:.3f}%'.format(metrics.recall_score(y_test, y_pred, average='micro') * 100))\n",
    "print('Accuracy: {0:.3f}%'.format(metrics.accuracy_score(y_test, y_pred) * 100))\n",
    "print('Predicted values:\\n {}'.format(y_pred))"
   ]
  },
  {
   "cell_type": "code",
   "execution_count": 6,
   "metadata": {},
   "outputs": [],
   "source": [
    "y_pred = clf.predict(X_test)"
   ]
  },
  {
   "cell_type": "code",
   "execution_count": 7,
   "metadata": {},
   "outputs": [
    {
     "name": "stdout",
     "output_type": "stream",
     "text": [
      "Precision: 61.500%\n",
      "Recall: 61.500%\n",
      "Accuracy: 61.500%\n",
      "Predicted values:\n",
      " ['hiphop' 'country' 'reggae' 'pop' 'blues' 'reggae' 'country' 'metal'\n",
      " 'disco' 'rock' 'jazz' 'blues' 'blues' 'reggae' 'hiphop' 'classical'\n",
      " 'country' 'metal' 'rock' 'metal' 'metal' 'rock' 'hiphop' 'country'\n",
      " 'classical' 'jazz' 'country' 'pop' 'metal' 'metal' 'country' 'blues'\n",
      " 'reggae' 'reggae' 'blues' 'classical' 'disco' 'pop' 'jazz' 'country'\n",
      " 'hiphop' 'hiphop' 'jazz' 'disco' 'reggae' 'blues' 'blues' 'country'\n",
      " 'country' 'metal' 'hiphop' 'metal' 'disco' 'rock' 'blues' 'country'\n",
      " 'disco' 'classical' 'pop' 'hiphop' 'rock' 'hiphop' 'rock' 'blues' 'disco'\n",
      " 'metal' 'disco' 'pop' 'hiphop' 'metal' 'country' 'country' 'classical'\n",
      " 'rock' 'metal' 'classical' 'classical' 'classical' 'metal' 'rock' 'disco'\n",
      " 'rock' 'classical' 'country' 'classical' 'blues' 'classical' 'blues'\n",
      " 'jazz' 'classical' 'classical' 'jazz' 'country' 'reggae' 'metal' 'reggae'\n",
      " 'reggae' 'pop' 'blues' 'hiphop' 'disco' 'country' 'disco' 'rock' 'rock'\n",
      " 'classical' 'reggae' 'classical' 'metal' 'country' 'metal' 'metal' 'rock'\n",
      " 'hiphop' 'country' 'blues' 'pop' 'pop' 'pop' 'reggae' 'pop' 'jazz'\n",
      " 'reggae' 'hiphop' 'reggae' 'metal' 'jazz' 'reggae' 'classical' 'country'\n",
      " 'hiphop' 'metal' 'pop' 'metal' 'disco' 'metal' 'disco' 'jazz' 'disco'\n",
      " 'country' 'disco' 'metal' 'jazz' 'jazz' 'jazz' 'blues' 'hiphop' 'rock'\n",
      " 'jazz' 'disco' 'classical' 'pop' 'reggae' 'jazz' 'country' 'pop' 'metal'\n",
      " 'blues' 'blues' 'pop' 'disco' 'jazz' 'jazz' 'blues' 'blues' 'reggae'\n",
      " 'hiphop' 'jazz' 'disco' 'rock' 'country' 'hiphop' 'metal' 'hiphop'\n",
      " 'blues' 'reggae' 'jazz' 'disco' 'metal' 'disco' 'classical' 'country'\n",
      " 'pop' 'hiphop' 'blues' 'rock' 'reggae' 'disco' 'blues' 'hiphop' 'disco'\n",
      " 'country' 'metal' 'country' 'jazz' 'metal' 'blues' 'metal' 'blues'\n",
      " 'metal']\n"
     ]
    }
   ],
   "source": [
    "print('Precision: {0:.3f}%'.format(metrics.precision_score(y_test, y_pred, average='micro') * 100))\n",
    "print('Recall: {0:.3f}%'.format(metrics.recall_score(y_test, y_pred, average='micro') * 100))\n",
    "print('Accuracy: {0:.3f}%'.format(metrics.accuracy_score(y_test, y_pred) * 100))\n",
    "print('Predicted values:\\n {}'.format(y_pred))"
   ]
  },
  {
   "cell_type": "code",
   "execution_count": 8,
   "metadata": {},
   "outputs": [
    {
     "data": {
      "text/plain": [
       "0.885"
      ]
     },
     "execution_count": 8,
     "metadata": {},
     "output_type": "execute_result"
    }
   ],
   "source": [
    "#mean accuracy\n",
    "clf.score(X_train, y_train)"
   ]
  },
  {
   "cell_type": "code",
   "execution_count": 9,
   "metadata": {},
   "outputs": [
    {
     "data": {
      "text/plain": [
       "<matplotlib.axes._subplots.AxesSubplot at 0x122656c50>"
      ]
     },
     "execution_count": 9,
     "metadata": {},
     "output_type": "execute_result"
    },
    {
     "data": {
      "image/png": "[encoded data removed]",
      "text/plain": [
       "<Figure size 432x288 with 2 Axes>"
      ]
     },
     "metadata": {},
     "output_type": "display_data"
    }
   ],
   "source": [
    "#confusion matrix using seaborn and matplotlib\n",
    "#found on stackoverflow https://stackoverflow.com/questions/35572000/how-can-i-plot-a-confusion-matrix\n",
    "genres = ['rock', 'pop', 'hiphop', 'country', 'classical', 'blues', 'raggae', 'disco', 'metal', 'jazz']\n",
    "\n",
    "#create confusion matrix using scikitlearn.metrics\n",
    "cm = metrics.confusion_matrix(y_test, y_pred)\n",
    "\n",
    "#create a dataframe confusion matric\n",
    "df_cm = pd.DataFrame(cm, genres,\n",
    "                  genres)\n",
    "#plt.figure(figsize = (10,7))\n",
    "sn.set(font_scale=1.4)#for label size\n",
    "sn.heatmap(df_cm, annot=True, annot_kws={\"size\": 16}, cmap=\"Blues\")# font size"
   ]
  },
  {
   "cell_type": "code",
   "execution_count": 10,
   "metadata": {},
   "outputs": [
    {
     "name": "stdout",
     "output_type": "stream",
     "text": [
      "              precision    recall  f1-score   support\n",
      "\n",
      "       blues       0.48      0.58      0.52        19\n",
      "   classical       0.89      0.94      0.91        17\n",
      "     country       0.62      0.58      0.60        26\n",
      "       disco       0.43      0.60      0.50        15\n",
      "      hiphop       0.58      0.55      0.56        20\n",
      "        jazz       0.68      0.76      0.72        17\n",
      "       metal       0.75      0.78      0.76        27\n",
      "         pop       0.60      0.50      0.55        18\n",
      "      reggae       0.61      0.55      0.58        20\n",
      "        rock       0.47      0.33      0.39        21\n",
      "\n",
      "   micro avg       0.61      0.61      0.61       200\n",
      "   macro avg       0.61      0.62      0.61       200\n",
      "weighted avg       0.62      0.61      0.61       200\n",
      "\n"
     ]
    }
   ],
   "source": [
    "#classification report\n",
    "print(metrics.classification_report(y_test, y_pred))"
   ]
  },
  {
   "cell_type": "code",
   "execution_count": 21,
   "metadata": {},
   "outputs": [
    {
     "name": "stdout",
     "output_type": "stream",
     "text": [
      "Predicted values:\n",
      " ['hiphop' 'jazz' 'pop']\n"
     ]
    }
   ],
   "source": [
    "#now to try with some outside data\n",
    "new_data = pd.read_csv(\"demo_features.csv\")\n",
    "\n",
    "X = new_data.iloc[:, 1:]\n",
    "y_pred = clf.predict(X)\n",
    "print('Predicted values:\\n {}'.format(y_pred))"
   ]
  },
  {
   "cell_type": "code",
   "execution_count": null,
   "metadata": {},
   "outputs": [],
   "source": []
  }
 ],
 "metadata": {
  "kernelspec": {
   "display_name": "Python 3",
   "language": "python",
   "name": "python3"
  },
  "language_info": {
   "codemirror_mode": {
    "name": "ipython",
    "version": 3
   },
   "file_extension": ".py",
   "mimetype": "text/x-python",
   "name": "python",
   "nbconvert_exporter": "python",
   "pygments_lexer": "ipython3",
   "version": "3.6.5"
  }
 },
 "nbformat": 4,
 "nbformat_minor": 2
}
