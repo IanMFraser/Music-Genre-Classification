{
 "cells": [
  {
   "cell_type": "code",
   "execution_count": null,
   "metadata": {},
   "outputs": [],
   "source": []
  },
  {
   "cell_type": "code",
   "execution_count": 1,
   "metadata": {},
   "outputs": [],
   "source": [
    "import os\n",
    "import numpy as np\n",
    "import pandas as pd\n",
    "import librosa"
   ]
  },
  {
   "cell_type": "code",
   "execution_count": 2,
   "metadata": {},
   "outputs": [],
   "source": [
    "#find path to audio files\n",
    "file_path = '/Users/IMF1/Desktop/Capstone-MusicGenreClassification/genres2'\n",
    "\n",
    "#store a list of genre names - might not need this\n",
    "genres = ['blues', 'classical', 'country', 'disco', 'hiphop', 'jazz', 'metal', 'pop', 'reggae', 'rock']\n",
    "\n",
    "#read filenames and genre from csv - set the filename as index\n",
    "df = pd.read_csv('genres.csv', names=['filename', 'genre'])\n",
    "df.set_index('filename', inplace=True)\n",
    "df = df.sort_index()"
   ]
  },
  {
   "cell_type": "code",
   "execution_count": 3,
   "metadata": {},
   "outputs": [],
   "source": [
    "feature_names= ['mean_zcr', 'std_zcr', 'mean_rmse', 'std_rmse', 'bpm', 'mean_mfcc0', 'std_mfcc0', \n",
    "    'mean_mfcc1', 'std_mfcc1', 'mean_mfcc2', 'std_mfcc2', 'mean_mfcc3', 'std_mfcc3', 'mean_mfcc4', 'std_mfcc4', \n",
    "    'mean_mfcc5', 'std_mfcc5', 'mean_mfcc6', 'std_mfcc6', 'mean_mfcc7', 'std_mfcc7', 'mean_mfcc8', 'std_mfcc8', \n",
    "    'mean_mfcc9', 'std_mfcc9', 'mean_mfcc10', 'std_mfcc10', 'mean_mfcc11', 'std_mfcc11', 'mean_mfcc12', 'mean_mfcc12', \n",
    "    'mean_chroma', 'std_chroma', 'mean_centroid', 'std_centroid', 'mean_bandwidth', 'std_bandwidth', 'mean_contrast', \n",
    "    'std_contrast', 'mean_rolloff', 'std_rolloff']\n",
    "\n",
    "features_df = pd.DataFrame(columns = feature_names)\n",
    "\n"
   ]
  },
  {
   "cell_type": "code",
   "execution_count": 4,
   "metadata": {},
   "outputs": [],
   "source": [
    "rows = []\n",
    "for file in df.index:\n",
    "    temp = {}\n",
    "    y, sr = librosa.load('{}/{}'.format(file_path, file))\n",
    "    zcr = librosa.feature.zero_crossing_rate(y)\n",
    "    rmse = librosa.feature.rmse(y)\n",
    "    onset_env = librosa.onset.onset_strength(y, sr=sr)\n",
    "    bpm = librosa.beat.tempo(onset_envelope=onset_env, sr=sr, aggregate=None)\n",
    "    mfcc = librosa.feature.mfcc(y, sr=sr, n_mfcc=13)\n",
    "    chroma = librosa.feature.chroma_cqt(y, sr=sr)\n",
    "    centroid = librosa.feature.spectral_centroid(y, sr=sr)\n",
    "    bandwidth = librosa.feature.spectral_bandwidth(y, sr=sr)\n",
    "    contrast = librosa.feature.spectral_contrast(y, sr=sr)\n",
    "    rolloff = librosa.feature.spectral_rolloff(y, sr=sr)\n",
    "    temp.update({'filename': file, 'mean_zcr': np.mean(zcr), 'std_zcr': np.std(zcr),\n",
    "                       'mean_rmse': np.mean(rmse), 'std_rmse': np.std(rmse), 'bpm': np.mean(bpm), \n",
    "                       'mean_mfcc0': np.mean(mfcc[0, :]), 'std_mfcc0': np.std(mfcc[0, :]), 'mean_mfcc1': np.mean(mfcc[1, :]),\n",
    "                       'std_mfcc1': np.std(mfcc[1, :]), 'mean_mfcc2': np.mean(mfcc[2, :]), 'std_mfcc2': np.std(mfcc[2, :]), \n",
    "                       'mean_mfcc3': np.mean(mfcc[3, :]), 'std_mfcc3': np.std(mfcc[3, :]), 'mean_mfcc4': np.mean(mfcc[4, :]),\n",
    "                       'std_mfcc4': np.std(mfcc[4, :]), 'mean_mfcc5': np.mean(mfcc[5, :]), 'std_mfcc5': np.std(mfcc[5, :]),\n",
    "                        'mean_mfcc6': np.mean(mfcc[6, :]), 'std_mfcc6': np.std(mfcc[6, :]), 'mean_mfcc7': np.mean(mfcc[7, :]),\n",
    "                        'std_mfcc7': np.std(mfcc[7, :]), 'mean_mfcc8': np.mean(mfcc[8, :]), 'std_mfcc8': np.std(mfcc[8, :]), \n",
    "                        'mean_mfcc9': np.mean(mfcc[9, :]), 'std_mfcc9': np.std(mfcc[9, :]), 'mean_mfcc10': np.mean(mfcc[10, :]), \n",
    "                        'std_mfcc10': np.std(mfcc[10, :]), 'mean_mfcc11': np.mean(mfcc[11, :]), 'std_mfcc11': np.std(mfcc[11, :]), \n",
    "                        'mean_mfcc12': np.mean(mfcc[12, :]), 'mean_mfcc12': np.std(mfcc[12, :]), 'mean_chroma':np.mean(chroma), \n",
    "                        'std_chroma':np.std(chroma), 'mean_centroid': np.mean(centroid), 'std_centroid': np.std(centroid), \n",
    "                        'mean_bandwidth': np.mean(bandwidth), 'std_bandwidth': np.std(bandwidth), 'mean_contrast': np.mean(contrast), \n",
    "                        'std_contrast': np.std(contrast), 'mean_rolloff': np.mean(rolloff), 'std_rolloff': np.std(rolloff)}, ignore_index=True)\n",
    "    rows.append(temp)\n",
    "    "
   ]
  },
  {
   "cell_type": "code",
   "execution_count": 5,
   "metadata": {},
   "outputs": [],
   "source": [
    "#create a new dataframe with extracted features\n",
    "features_df = pd.DataFrame(rows)"
   ]
  },
  {
   "cell_type": "code",
   "execution_count": 7,
   "metadata": {},
   "outputs": [],
   "source": [
    "#set the filename as index\n",
    "features_df.set_index('filename', inplace=True)"
   ]
  },
  {
   "cell_type": "code",
   "execution_count": 12,
   "metadata": {},
   "outputs": [],
   "source": [
    "#concatonate the two dataframes together\n",
    "result = pd.concat([df, features_df],  axis=1, join_axes=[df.index])"
   ]
  },
  {
   "cell_type": "code",
   "execution_count": 19,
   "metadata": {},
   "outputs": [],
   "source": [
    "#drop the ignore_index column\n",
    "result = result.drop(['ignore_index'], axis=1)"
   ]
  },
  {
   "cell_type": "code",
   "execution_count": 21,
   "metadata": {},
   "outputs": [],
   "source": [
    "#write to csv for later use\n",
    "result.to_csv('features.csv')"
   ]
  },
  {
   "cell_type": "code",
   "execution_count": null,
   "metadata": {},
   "outputs": [],
   "source": []
  }
 ],
 "metadata": {
  "kernelspec": {
   "display_name": "Python 3",
   "language": "python",
   "name": "python3"
  },
  "language_info": {
   "codemirror_mode": {
    "name": "ipython",
    "version": 3
   },
   "file_extension": ".py",
   "mimetype": "text/x-python",
   "name": "python",
   "nbconvert_exporter": "python",
   "pygments_lexer": "ipython3",
   "version": "3.6.5"
  }
 },
 "nbformat": 4,
 "nbformat_minor": 2
}
